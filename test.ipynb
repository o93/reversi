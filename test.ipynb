{
 "cells": [
  {
   "cell_type": "code",
   "execution_count": 3,
   "metadata": {},
   "outputs": [],
   "source": [
    "import random\n",
    "from reversi import *"
   ]
  },
  {
   "cell_type": "markdown",
   "metadata": {},
   "source": [
    "# デフォルトプレイヤーによる対戦"
   ]
  },
  {
   "cell_type": "code",
   "execution_count": 2,
   "metadata": {},
   "outputs": [
    {
     "name": "stdout",
     "output_type": "stream",
     "text": [
      "no:0 white:0 black:0 pass:0 turn:x\n",
      ". + . . \n",
      "+ o x . \n",
      ". x o + \n",
      ". . + . \n",
      "None\n",
      "no:1 white:1 black:4 pass:0 turn:o\n",
      "+ x + . \n",
      ". x x . \n",
      "+ x o . \n",
      ". . . . \n",
      "no:2 white:3 black:3 pass:0 turn:x\n",
      "o x . . \n",
      "+ o x . \n",
      ". x o + \n",
      ". . + . \n",
      "no:3 white:2 black:5 pass:0 turn:o\n",
      "o x + . \n",
      "x x x . \n",
      "+ x o . \n",
      ". . . . \n",
      "no:4 white:5 black:3 pass:0 turn:x\n",
      "o o o + \n",
      "x x o + \n",
      ". x o + \n",
      ". . . + \n",
      "no:5 white:4 black:5 pass:0 turn:o\n",
      "o o o x \n",
      "x x x . \n",
      "+ x o + \n",
      ". + . . \n",
      "no:6 white:8 black:2 pass:0 turn:x\n",
      "o o o x \n",
      "o o x . \n",
      "o o o . \n",
      "+ . + . \n",
      "no:7 white:7 black:4 pass:0 turn:o\n",
      "o o o x \n",
      "o o x + \n",
      "o x o + \n",
      "x + + . \n",
      "no:8 white:9 black:3 pass:0 turn:x\n",
      "o o o x \n",
      "o o o o \n",
      "o x o + \n",
      "x . . . \n",
      "no:9 white:7 black:6 pass:0 turn:o\n",
      "o o o x \n",
      "o o o x \n",
      "o x x x \n",
      "x + + + \n",
      "no:10 white:9 black:5 pass:0 turn:x\n",
      "o o o x \n",
      "o o o x \n",
      "o o x x \n",
      "x o + . \n",
      "no:11 white:8 black:7 pass:0 turn:o\n",
      "o o o x \n",
      "o o o x \n",
      "o o x x \n",
      "x x x + \n",
      "winner: WHITE\n",
      "no:12 white:10 black:6\n",
      "o o o x \n",
      "o o o x \n",
      "o o o x \n",
      "x x x o \n"
     ]
    }
   ],
   "source": [
    "Game().start()"
   ]
  },
  {
   "cell_type": "markdown",
   "metadata": {},
   "source": [
    "# ランダムプレイヤーによる対戦"
   ]
  },
  {
   "cell_type": "code",
   "execution_count": 23,
   "metadata": {},
   "outputs": [
    {
     "name": "stdout",
     "output_type": "stream",
     "text": [
      "no:0 white:0 black:0 pass:0 turn:x\n",
      ". + . . \n",
      "+ o x . \n",
      ". x o + \n",
      ". . + . \n",
      "None\n",
      "no:1 white:1 black:4 pass:0 turn:o\n",
      "+ x + . \n",
      ". x x . \n",
      "+ x o . \n",
      ". . . . \n",
      "no:2 white:3 black:3 pass:0 turn:x\n",
      ". x . . \n",
      ". x x . \n",
      "o o o . \n",
      "+ + + + \n",
      "no:3 white:2 black:5 pass:0 turn:o\n",
      ". x + + \n",
      ". x x . \n",
      "o o x + \n",
      ". . x . \n",
      "no:4 white:4 black:4 pass:0 turn:x\n",
      ". x . . \n",
      "+ x x . \n",
      "o o o o \n",
      "+ + x + \n",
      "no:5 white:3 black:6 pass:0 turn:o\n",
      "+ x + . \n",
      ". x x . \n",
      "o x o o \n",
      ". x x . \n",
      "no:6 white:6 black:4 pass:0 turn:x\n",
      ". x o + \n",
      ". o o + \n",
      "o x o o \n",
      ". x x . \n",
      "no:7 white:5 black:6 pass:0 turn:o\n",
      "+ x o + \n",
      ". o o x \n",
      "o x x o \n",
      "+ x x + \n",
      "no:8 white:7 black:5 pass:0 turn:x\n",
      "+ x o + \n",
      "+ o o x \n",
      "o o x o \n",
      "o x x + \n",
      "no:9 white:6 black:7 pass:0 turn:o\n",
      ". x x x \n",
      ". o o x \n",
      "o o x o \n",
      "o x x + \n",
      "no:10 white:10 black:4 pass:0 turn:x\n",
      ". x x x \n",
      "+ o o x \n",
      "o o o o \n",
      "o o o o \n",
      "no:11 white:8 black:7 pass:0 turn:o\n",
      "+ x x x \n",
      "x x x x \n",
      "o o o o \n",
      "o o o o \n",
      "winner: WHITE\n",
      "no:12 white:11 black:5\n",
      "o x x x \n",
      "o o x x \n",
      "o o o o \n",
      "o o o o \n"
     ]
    }
   ],
   "source": [
    "p1 = RandomPlayer(BLACK, 'BLACK')\n",
    "p2 = RandomPlayer(WHITE, 'WHITE')\n",
    "Game(p1=p1, p2=p2).start()"
   ]
  },
  {
   "cell_type": "markdown",
   "metadata": {},
   "source": [
    "# ランダムプレイヤーとあなたによる対戦"
   ]
  },
  {
   "cell_type": "code",
   "execution_count": 4,
   "metadata": {},
   "outputs": [
    {
     "name": "stdout",
     "output_type": "stream",
     "text": [
      "no:0 white:0 black:0 pass:0 turn:x\n",
      ". + . . \n",
      "+ o x . \n",
      ". x o + \n",
      ". . + . \n",
      "None\n",
      "no:1 white:1 black:4 pass:0 turn:o\n",
      "+ x + . \n",
      ". x x . \n",
      "+ x o . \n",
      ". . . . \n"
     ]
    },
    {
     "name": "stdin",
     "output_type": "stream",
     "text": [
      "YOU turn [(0, 0), (0, 2), (2, 0)]: 0, 0\n"
     ]
    },
    {
     "name": "stdout",
     "output_type": "stream",
     "text": [
      "(0, 0)\n",
      "no:2 white:3 black:3 pass:0 turn:x\n",
      "o x . . \n",
      "+ o x . \n",
      ". x o + \n",
      ". . + . \n",
      "no:3 white:2 black:5 pass:0 turn:o\n",
      "o x + . \n",
      ". o x + \n",
      ". x x x \n",
      ". + . + \n"
     ]
    },
    {
     "name": "stdin",
     "output_type": "stream",
     "text": [
      "YOU turn [(0, 2), (1, 3), (3, 1), (3, 3)]: 0, 2\n"
     ]
    },
    {
     "name": "stdout",
     "output_type": "stream",
     "text": [
      "(0, 2)\n",
      "no:4 white:4 black:4 pass:0 turn:x\n",
      "o o o . \n",
      "+ o x . \n",
      ". x x x \n",
      ". . . . \n",
      "no:5 white:3 black:6 pass:0 turn:o\n",
      "o o o . \n",
      "x x x . \n",
      "+ x x x \n",
      ". + + + \n"
     ]
    },
    {
     "name": "stdin",
     "output_type": "stream",
     "text": [
      "YOU turn [(2, 0), (3, 1), (3, 2), (3, 3)]: 3, 3\n"
     ]
    },
    {
     "name": "stdout",
     "output_type": "stream",
     "text": [
      "(3, 3)\n",
      "no:6 white:6 black:4 pass:0 turn:x\n",
      "o o o . \n",
      "x o x . \n",
      ". x o x \n",
      ". . + o \n",
      "no:7 white:5 black:6 pass:0 turn:o\n",
      "o o o . \n",
      "x o x + \n",
      "+ x x x \n",
      ". + x o \n"
     ]
    },
    {
     "name": "stdin",
     "output_type": "stream",
     "text": [
      "YOU turn [(1, 3), (2, 0), (3, 1)]: 1, 3\n"
     ]
    },
    {
     "name": "stdout",
     "output_type": "stream",
     "text": [
      "(1, 3)\n",
      "no:8 white:8 black:4 pass:0 turn:x\n",
      "o o o + \n",
      "x o o o \n",
      ". x x o \n",
      ". . x o \n",
      "no:9 white:7 black:6 pass:0 turn:o\n",
      "o o o x \n",
      "x o x o \n",
      "+ x x o \n",
      ". + x o \n"
     ]
    },
    {
     "name": "stdin",
     "output_type": "stream",
     "text": [
      "YOU turn [(2, 0), (3, 1)]: 2, 0\n"
     ]
    },
    {
     "name": "stdout",
     "output_type": "stream",
     "text": [
      "(2, 0)\n",
      "no:10 white:11 black:3 pass:0 turn:x\n",
      "o o o x \n",
      "o o x o \n",
      "o o o o \n",
      "+ . x o \n",
      "no:11 white:10 black:5 pass:0 turn:o\n",
      "o o o x \n",
      "o o x o \n",
      "o x o o \n",
      "x + x o \n"
     ]
    },
    {
     "name": "stdin",
     "output_type": "stream",
     "text": [
      "YOU turn [(3, 1)]: 3, 1\n"
     ]
    },
    {
     "name": "stdout",
     "output_type": "stream",
     "text": [
      "(3, 1)\n",
      "winner: WHITE\n",
      "no:12 white:13 black:3 pass:0\n",
      "o o o x \n",
      "o o x o \n",
      "o o o o \n",
      "x o o o \n"
     ]
    }
   ],
   "source": [
    "p1 = RandomPlayer(BLACK, 'RANDOM')\n",
    "p2 = InputPlayer(WHITE, 'YOU')\n",
    "Game(p1=p1, p2=p2).start()"
   ]
  }
 ],
 "metadata": {
  "kernelspec": {
   "display_name": "Python 3",
   "language": "python",
   "name": "python3"
  },
  "language_info": {
   "codemirror_mode": {
    "name": "ipython",
    "version": 3
   },
   "file_extension": ".py",
   "mimetype": "text/x-python",
   "name": "python",
   "nbconvert_exporter": "python",
   "pygments_lexer": "ipython3",
   "version": "3.6.8"
  }
 },
 "nbformat": 4,
 "nbformat_minor": 2
}
