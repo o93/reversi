{
 "cells": [
  {
   "cell_type": "code",
   "execution_count": 1,
   "metadata": {},
   "outputs": [],
   "source": [
    "from reversi import *"
   ]
  },
  {
   "cell_type": "markdown",
   "metadata": {},
   "source": [
    "# デフォルトプレイヤーによる対戦"
   ]
  },
  {
   "cell_type": "code",
   "execution_count": 2,
   "metadata": {},
   "outputs": [
    {
     "name": "stdout",
     "output_type": "stream",
     "text": [
      "no:0 white:0 black:0 pass:0 turn:x\n",
      "  0 1 2 3 \n",
      "0 . + . . \n",
      "1 + o x . \n",
      "2 . x o + \n",
      "3 . . + . \n",
      "None\n",
      "no:1 white:1 black:4 pass:0 turn:o\n",
      "  0 1 2 3 \n",
      "0 + x + . \n",
      "1 . x x . \n",
      "2 + x o . \n",
      "3 . . . . \n",
      "no:2 white:3 black:3 pass:0 turn:x\n",
      "  0 1 2 3 \n",
      "0 o x . . \n",
      "1 + o x . \n",
      "2 . x o + \n",
      "3 . . + . \n",
      "no:3 white:2 black:5 pass:0 turn:o\n",
      "  0 1 2 3 \n",
      "0 o x + . \n",
      "1 x x x . \n",
      "2 + x o . \n",
      "3 . . . . \n",
      "no:4 white:5 black:3 pass:0 turn:x\n",
      "  0 1 2 3 \n",
      "0 o o o + \n",
      "1 x x o + \n",
      "2 . x o + \n",
      "3 . . . + \n",
      "no:5 white:4 black:5 pass:0 turn:o\n",
      "  0 1 2 3 \n",
      "0 o o o x \n",
      "1 x x x . \n",
      "2 + x o + \n",
      "3 . + . . \n",
      "no:6 white:8 black:2 pass:0 turn:x\n",
      "  0 1 2 3 \n",
      "0 o o o x \n",
      "1 o o x . \n",
      "2 o o o . \n",
      "3 + . + . \n",
      "no:7 white:7 black:4 pass:0 turn:o\n",
      "  0 1 2 3 \n",
      "0 o o o x \n",
      "1 o o x + \n",
      "2 o x o + \n",
      "3 x + + . \n",
      "no:8 white:9 black:3 pass:0 turn:x\n",
      "  0 1 2 3 \n",
      "0 o o o x \n",
      "1 o o o o \n",
      "2 o x o + \n",
      "3 x . . . \n",
      "no:9 white:7 black:6 pass:0 turn:o\n",
      "  0 1 2 3 \n",
      "0 o o o x \n",
      "1 o o o x \n",
      "2 o x x x \n",
      "3 x + + + \n",
      "no:10 white:9 black:5 pass:0 turn:x\n",
      "  0 1 2 3 \n",
      "0 o o o x \n",
      "1 o o o x \n",
      "2 o o x x \n",
      "3 x o + . \n",
      "no:11 white:8 black:7 pass:0 turn:o\n",
      "  0 1 2 3 \n",
      "0 o o o x \n",
      "1 o o o x \n",
      "2 o o x x \n",
      "3 x x x + \n",
      "winner: WHITE\n",
      "no:12 white:10 black:6 pass:0\n",
      "  0 1 2 3 \n",
      "0 o o o x \n",
      "1 o o o x \n",
      "2 o o o x \n",
      "3 x x x o \n"
     ]
    }
   ],
   "source": [
    "Game().start()"
   ]
  },
  {
   "cell_type": "markdown",
   "metadata": {},
   "source": [
    "# ランダムプレイヤーによる対戦"
   ]
  },
  {
   "cell_type": "code",
   "execution_count": 3,
   "metadata": {},
   "outputs": [
    {
     "name": "stdout",
     "output_type": "stream",
     "text": [
      "no:0 white:0 black:0 pass:0 turn:x\n",
      "  0 1 2 3 \n",
      "0 . + . . \n",
      "1 + o x . \n",
      "2 . x o + \n",
      "3 . . + . \n",
      "None\n",
      "no:1 white:1 black:4 pass:0 turn:o\n",
      "  0 1 2 3 \n",
      "0 . . . . \n",
      "1 . o x + \n",
      "2 . x x . \n",
      "3 . + x + \n",
      "no:2 white:3 black:3 pass:0 turn:x\n",
      "  0 1 2 3 \n",
      "0 + + + + \n",
      "1 . o o o \n",
      "2 . x x . \n",
      "3 . . x . \n",
      "no:3 white:2 black:5 pass:0 turn:o\n",
      "  0 1 2 3 \n",
      "0 . . x . \n",
      "1 . o x o \n",
      "2 . x x . \n",
      "3 . + x + \n",
      "no:4 white:4 black:4 pass:0 turn:x\n",
      "  0 1 2 3 \n",
      "0 . + x . \n",
      "1 + o x o \n",
      "2 + x o + \n",
      "3 . . x o \n",
      "no:5 white:3 black:6 pass:0 turn:o\n",
      "  0 1 2 3 \n",
      "0 + . x . \n",
      "1 x x x o \n",
      "2 + x o . \n",
      "3 . + x o \n",
      "no:6 white:5 black:5 pass:0 turn:x\n",
      "  0 1 2 3 \n",
      "0 o + x . \n",
      "1 x o x o \n",
      "2 + x o + \n",
      "3 . . x o \n",
      "no:7 white:4 black:7 pass:0 turn:o\n",
      "  0 1 2 3 \n",
      "0 o . x . \n",
      "1 x o x o \n",
      "2 + x x x \n",
      "3 . + x o \n",
      "no:8 white:8 black:4 pass:0 turn:x\n",
      "  0 1 2 3 \n",
      "0 o . x + \n",
      "1 x o x o \n",
      "2 + o o x \n",
      "3 + o o o \n",
      "no:9 white:5 black:8 pass:0 turn:o\n",
      "  0 1 2 3 \n",
      "0 o + x . \n",
      "1 x x x o \n",
      "2 x x x x \n",
      "3 + o o o \n",
      "no:10 white:8 black:6 pass:0 turn:x\n",
      "  0 1 2 3 \n",
      "0 o . x + \n",
      "1 o x x o \n",
      "2 o x x x \n",
      "3 o o o o \n",
      "no:11 white:7 black:8 pass:0 turn:o\n",
      "  0 1 2 3 \n",
      "0 o + x x \n",
      "1 o x x x \n",
      "2 o x x x \n",
      "3 o o o o \n",
      "winner: WHITE\n",
      "no:12 white:10 black:6 pass:0\n",
      "  0 1 2 3 \n",
      "0 o o x x \n",
      "1 o o x x \n",
      "2 o o x x \n",
      "3 o o o o \n"
     ]
    }
   ],
   "source": [
    "p1 = RandomPlayer(BLACK, 'BLACK')\n",
    "p2 = RandomPlayer(WHITE, 'WHITE')\n",
    "Game(p1=p1, p2=p2).start()"
   ]
  },
  {
   "cell_type": "markdown",
   "metadata": {},
   "source": [
    "# ランダムプレイヤーとあなたによる対戦"
   ]
  },
  {
   "cell_type": "code",
   "execution_count": 4,
   "metadata": {},
   "outputs": [
    {
     "name": "stdout",
     "output_type": "stream",
     "text": [
      "no:0 white:0 black:0 pass:0 turn:x\n",
      "  0 1 2 3 \n",
      "0 . + . . \n",
      "1 + o x . \n",
      "2 . x o + \n",
      "3 . . + . \n",
      "None\n",
      "no:1 white:1 black:4 pass:0 turn:o\n",
      "  0 1 2 3 \n",
      "0 + x + . \n",
      "1 . x x . \n",
      "2 + x o . \n",
      "3 . . . . \n"
     ]
    },
    {
     "name": "stdin",
     "output_type": "stream",
     "text": [
      "YOU turn [(0, 0), (0, 2), (2, 0)]: 0, 0\n"
     ]
    },
    {
     "name": "stdout",
     "output_type": "stream",
     "text": [
      "(0, 0)\n",
      "no:2 white:3 black:3 pass:0 turn:x\n",
      "  0 1 2 3 \n",
      "0 o x . . \n",
      "1 + o x . \n",
      "2 . x o + \n",
      "3 . . + . \n",
      "no:3 white:2 black:5 pass:0 turn:o\n",
      "  0 1 2 3 \n",
      "0 o x + . \n",
      "1 x x x . \n",
      "2 + x o . \n",
      "3 . . . . \n"
     ]
    },
    {
     "name": "stdin",
     "output_type": "stream",
     "text": [
      "YOU turn [(0, 2), (2, 0)]: 2, 0\n"
     ]
    },
    {
     "name": "stdout",
     "output_type": "stream",
     "text": [
      "(2, 0)\n",
      "no:4 white:5 black:3 pass:0 turn:x\n",
      "  0 1 2 3 \n",
      "0 o x . . \n",
      "1 o x x . \n",
      "2 o o o . \n",
      "3 + + + + \n",
      "no:5 white:4 black:5 pass:0 turn:o\n",
      "  0 1 2 3 \n",
      "0 o x + + \n",
      "1 o x x + \n",
      "2 o o x + \n",
      "3 . . . x \n"
     ]
    },
    {
     "name": "stdin",
     "output_type": "stream",
     "text": [
      "YOU turn [(0, 2), (0, 3), (1, 3), (2, 3)]: 1, 3\n"
     ]
    },
    {
     "name": "stdout",
     "output_type": "stream",
     "text": [
      "(1, 3)\n",
      "no:6 white:7 black:3 pass:0 turn:x\n",
      "  0 1 2 3 \n",
      "0 o x + . \n",
      "1 o o o o \n",
      "2 o o x + \n",
      "3 . + . x \n",
      "no:7 white:6 black:5 pass:0 turn:o\n",
      "  0 1 2 3 \n",
      "0 o x + + \n",
      "1 o o x o \n",
      "2 o o x x \n",
      "3 . + . x \n"
     ]
    },
    {
     "name": "stdin",
     "output_type": "stream",
     "text": [
      "YOU turn [(0, 2), (0, 3), (3, 1)]: 0, 3\n"
     ]
    },
    {
     "name": "stdout",
     "output_type": "stream",
     "text": [
      "(0, 3)\n",
      "no:8 white:8 black:4 pass:0 turn:x\n",
      "  0 1 2 3 \n",
      "0 o x + o \n",
      "1 o o o o \n",
      "2 o o x x \n",
      "3 . + . x \n",
      "no:9 white:6 black:7 pass:0 turn:o\n",
      "  0 1 2 3 \n",
      "0 o x + o \n",
      "1 o x o o \n",
      "2 o x x x \n",
      "3 + x + x \n"
     ]
    },
    {
     "name": "stdin",
     "output_type": "stream",
     "text": [
      "YOU turn [(0, 2), (3, 0), (3, 2)]: 3, 2\n"
     ]
    },
    {
     "name": "stdout",
     "output_type": "stream",
     "text": [
      "(3, 2)\n",
      "no:10 white:9 black:5 pass:1 turn:o\n",
      "  0 1 2 3 \n",
      "0 o x + o \n",
      "1 o x o o \n",
      "2 o o o x \n",
      "3 + x o x \n"
     ]
    },
    {
     "name": "stdin",
     "output_type": "stream",
     "text": [
      "YOU turn [(0, 2), (3, 0)]: 0, 2\n"
     ]
    },
    {
     "name": "stdout",
     "output_type": "stream",
     "text": [
      "(0, 2)\n",
      "winner: WHITE\n",
      "no:11 white:12 black:3 pass:2\n",
      "  0 1 2 3 \n",
      "0 o o o o \n",
      "1 o o o o \n",
      "2 o o o x \n",
      "3 + x o x \n"
     ]
    }
   ],
   "source": [
    "p1 = RandomPlayer(BLACK, 'RANDOM')\n",
    "p2 = InputPlayer(WHITE, 'YOU')\n",
    "Game(p1=p1, p2=p2).start()"
   ]
  }
 ],
 "metadata": {
  "kernelspec": {
   "display_name": "Python 3",
   "language": "python",
   "name": "python3"
  },
  "language_info": {
   "codemirror_mode": {
    "name": "ipython",
    "version": 3
   },
   "file_extension": ".py",
   "mimetype": "text/x-python",
   "name": "python",
   "nbconvert_exporter": "python",
   "pygments_lexer": "ipython3",
   "version": "3.6.8"
  }
 },
 "nbformat": 4,
 "nbformat_minor": 2
}
